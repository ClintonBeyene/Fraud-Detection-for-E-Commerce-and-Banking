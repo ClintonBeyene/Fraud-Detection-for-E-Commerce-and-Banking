{
 "cells": [
  {
   "cell_type": "markdown",
   "metadata": {},
   "source": [
    "# Data Analysis and Preprocessing of Fraud data"
   ]
  },
  {
   "cell_type": "code",
   "execution_count": 10,
   "metadata": {},
   "outputs": [],
   "source": [
    "# Importing necessary lebraries\n",
    "import numpy as np\n",
    "import pandas as pd\n",
    "import os\n",
    "import sys"
   ]
  },
  {
   "cell_type": "code",
   "execution_count": 11,
   "metadata": {},
   "outputs": [],
   "source": [
    "sys.path.append(os.path.join(os.path.abspath('../..')))"
   ]
  },
  {
   "cell_type": "code",
   "execution_count": 12,
   "metadata": {},
   "outputs": [],
   "source": [
    "# Import modules\n",
    "from src import data_loading as dl\n",
    "from src import data_summarry as ds\n",
    "from src import formatting as fm\n",
    "from src import univariate_analysis as uv"
   ]
  },
  {
   "cell_type": "code",
   "execution_count": 13,
   "metadata": {},
   "outputs": [],
   "source": [
    "# Load the data set \n",
    "fraud_df = dl.load_data(\"Fraud_Data.csv\") # Includes e-commerce transaction data aimed at identifying fraudulent activities.\n"
   ]
  },
  {
   "cell_type": "code",
   "execution_count": 5,
   "metadata": {},
   "outputs": [
    {
     "data": {
      "text/html": [
       "<div>\n",
       "<style scoped>\n",
       "    .dataframe tbody tr th:only-of-type {\n",
       "        vertical-align: middle;\n",
       "    }\n",
       "\n",
       "    .dataframe tbody tr th {\n",
       "        vertical-align: top;\n",
       "    }\n",
       "\n",
       "    .dataframe thead th {\n",
       "        text-align: right;\n",
       "    }\n",
       "</style>\n",
       "<table border=\"1\" class=\"dataframe\">\n",
       "  <thead>\n",
       "    <tr style=\"text-align: right;\">\n",
       "      <th></th>\n",
       "      <th>user_id</th>\n",
       "      <th>signup_time</th>\n",
       "      <th>purchase_time</th>\n",
       "      <th>purchase_value</th>\n",
       "      <th>device_id</th>\n",
       "      <th>source</th>\n",
       "      <th>browser</th>\n",
       "      <th>sex</th>\n",
       "      <th>age</th>\n",
       "      <th>ip_address</th>\n",
       "      <th>class</th>\n",
       "    </tr>\n",
       "  </thead>\n",
       "  <tbody>\n",
       "    <tr>\n",
       "      <th>0</th>\n",
       "      <td>22058</td>\n",
       "      <td>2015-02-24 22:55:49</td>\n",
       "      <td>2015-04-18 02:47:11</td>\n",
       "      <td>34</td>\n",
       "      <td>QVPSPJUOCKZAR</td>\n",
       "      <td>SEO</td>\n",
       "      <td>Chrome</td>\n",
       "      <td>M</td>\n",
       "      <td>39</td>\n",
       "      <td>7.327584e+08</td>\n",
       "      <td>0</td>\n",
       "    </tr>\n",
       "    <tr>\n",
       "      <th>1</th>\n",
       "      <td>333320</td>\n",
       "      <td>2015-06-07 20:39:50</td>\n",
       "      <td>2015-06-08 01:38:54</td>\n",
       "      <td>16</td>\n",
       "      <td>EOGFQPIZPYXFZ</td>\n",
       "      <td>Ads</td>\n",
       "      <td>Chrome</td>\n",
       "      <td>F</td>\n",
       "      <td>53</td>\n",
       "      <td>3.503114e+08</td>\n",
       "      <td>0</td>\n",
       "    </tr>\n",
       "    <tr>\n",
       "      <th>2</th>\n",
       "      <td>1359</td>\n",
       "      <td>2015-01-01 18:52:44</td>\n",
       "      <td>2015-01-01 18:52:45</td>\n",
       "      <td>15</td>\n",
       "      <td>YSSKYOSJHPPLJ</td>\n",
       "      <td>SEO</td>\n",
       "      <td>Opera</td>\n",
       "      <td>M</td>\n",
       "      <td>53</td>\n",
       "      <td>2.621474e+09</td>\n",
       "      <td>1</td>\n",
       "    </tr>\n",
       "    <tr>\n",
       "      <th>3</th>\n",
       "      <td>150084</td>\n",
       "      <td>2015-04-28 21:13:25</td>\n",
       "      <td>2015-05-04 13:54:50</td>\n",
       "      <td>44</td>\n",
       "      <td>ATGTXKYKUDUQN</td>\n",
       "      <td>SEO</td>\n",
       "      <td>Safari</td>\n",
       "      <td>M</td>\n",
       "      <td>41</td>\n",
       "      <td>3.840542e+09</td>\n",
       "      <td>0</td>\n",
       "    </tr>\n",
       "    <tr>\n",
       "      <th>4</th>\n",
       "      <td>221365</td>\n",
       "      <td>2015-07-21 07:09:52</td>\n",
       "      <td>2015-09-09 18:40:53</td>\n",
       "      <td>39</td>\n",
       "      <td>NAUITBZFJKHWW</td>\n",
       "      <td>Ads</td>\n",
       "      <td>Safari</td>\n",
       "      <td>M</td>\n",
       "      <td>45</td>\n",
       "      <td>4.155831e+08</td>\n",
       "      <td>0</td>\n",
       "    </tr>\n",
       "  </tbody>\n",
       "</table>\n",
       "</div>"
      ],
      "text/plain": [
       "   user_id          signup_time        purchase_time  purchase_value  \\\n",
       "0    22058  2015-02-24 22:55:49  2015-04-18 02:47:11              34   \n",
       "1   333320  2015-06-07 20:39:50  2015-06-08 01:38:54              16   \n",
       "2     1359  2015-01-01 18:52:44  2015-01-01 18:52:45              15   \n",
       "3   150084  2015-04-28 21:13:25  2015-05-04 13:54:50              44   \n",
       "4   221365  2015-07-21 07:09:52  2015-09-09 18:40:53              39   \n",
       "\n",
       "       device_id source browser sex  age    ip_address  class  \n",
       "0  QVPSPJUOCKZAR    SEO  Chrome   M   39  7.327584e+08      0  \n",
       "1  EOGFQPIZPYXFZ    Ads  Chrome   F   53  3.503114e+08      0  \n",
       "2  YSSKYOSJHPPLJ    SEO   Opera   M   53  2.621474e+09      1  \n",
       "3  ATGTXKYKUDUQN    SEO  Safari   M   41  3.840542e+09      0  \n",
       "4  NAUITBZFJKHWW    Ads  Safari   M   45  4.155831e+08      0  "
      ]
     },
     "execution_count": 5,
     "metadata": {},
     "output_type": "execute_result"
    }
   ],
   "source": [
    "# Data overview \n",
    "fraud_df.head()"
   ]
  },
  {
   "cell_type": "code",
   "execution_count": 6,
   "metadata": {},
   "outputs": [
    {
     "data": {
      "text/html": [
       "<div>\n",
       "<style scoped>\n",
       "    .dataframe tbody tr th:only-of-type {\n",
       "        vertical-align: middle;\n",
       "    }\n",
       "\n",
       "    .dataframe tbody tr th {\n",
       "        vertical-align: top;\n",
       "    }\n",
       "\n",
       "    .dataframe thead th {\n",
       "        text-align: right;\n",
       "    }\n",
       "</style>\n",
       "<table border=\"1\" class=\"dataframe\">\n",
       "  <thead>\n",
       "    <tr style=\"text-align: right;\">\n",
       "      <th></th>\n",
       "      <th>lower_bound_ip_address</th>\n",
       "      <th>upper_bound_ip_address</th>\n",
       "      <th>country</th>\n",
       "    </tr>\n",
       "  </thead>\n",
       "  <tbody>\n",
       "    <tr>\n",
       "      <th>0</th>\n",
       "      <td>16777216.0</td>\n",
       "      <td>16777471</td>\n",
       "      <td>Australia</td>\n",
       "    </tr>\n",
       "    <tr>\n",
       "      <th>1</th>\n",
       "      <td>16777472.0</td>\n",
       "      <td>16777727</td>\n",
       "      <td>China</td>\n",
       "    </tr>\n",
       "    <tr>\n",
       "      <th>2</th>\n",
       "      <td>16777728.0</td>\n",
       "      <td>16778239</td>\n",
       "      <td>China</td>\n",
       "    </tr>\n",
       "    <tr>\n",
       "      <th>3</th>\n",
       "      <td>16778240.0</td>\n",
       "      <td>16779263</td>\n",
       "      <td>Australia</td>\n",
       "    </tr>\n",
       "    <tr>\n",
       "      <th>4</th>\n",
       "      <td>16779264.0</td>\n",
       "      <td>16781311</td>\n",
       "      <td>China</td>\n",
       "    </tr>\n",
       "  </tbody>\n",
       "</table>\n",
       "</div>"
      ],
      "text/plain": [
       "   lower_bound_ip_address  upper_bound_ip_address    country\n",
       "0              16777216.0                16777471  Australia\n",
       "1              16777472.0                16777727      China\n",
       "2              16777728.0                16778239      China\n",
       "3              16778240.0                16779263  Australia\n",
       "4              16779264.0                16781311      China"
      ]
     },
     "execution_count": 6,
     "metadata": {},
     "output_type": "execute_result"
    }
   ],
   "source": [
    "# Data overview \n",
    "ip_address_df.head()"
   ]
  },
  {
   "cell_type": "code",
   "execution_count": 7,
   "metadata": {},
   "outputs": [
    {
     "data": {
      "text/html": [
       "<div>\n",
       "<style scoped>\n",
       "    .dataframe tbody tr th:only-of-type {\n",
       "        vertical-align: middle;\n",
       "    }\n",
       "\n",
       "    .dataframe tbody tr th {\n",
       "        vertical-align: top;\n",
       "    }\n",
       "\n",
       "    .dataframe thead th {\n",
       "        text-align: right;\n",
       "    }\n",
       "</style>\n",
       "<table border=\"1\" class=\"dataframe\">\n",
       "  <thead>\n",
       "    <tr style=\"text-align: right;\">\n",
       "      <th></th>\n",
       "      <th>Time</th>\n",
       "      <th>V1</th>\n",
       "      <th>V2</th>\n",
       "      <th>V3</th>\n",
       "      <th>V4</th>\n",
       "      <th>V5</th>\n",
       "      <th>V6</th>\n",
       "      <th>V7</th>\n",
       "      <th>V8</th>\n",
       "      <th>V9</th>\n",
       "      <th>...</th>\n",
       "      <th>V21</th>\n",
       "      <th>V22</th>\n",
       "      <th>V23</th>\n",
       "      <th>V24</th>\n",
       "      <th>V25</th>\n",
       "      <th>V26</th>\n",
       "      <th>V27</th>\n",
       "      <th>V28</th>\n",
       "      <th>Amount</th>\n",
       "      <th>Class</th>\n",
       "    </tr>\n",
       "  </thead>\n",
       "  <tbody>\n",
       "    <tr>\n",
       "      <th>0</th>\n",
       "      <td>0.0</td>\n",
       "      <td>-1.359807</td>\n",
       "      <td>-0.072781</td>\n",
       "      <td>2.536347</td>\n",
       "      <td>1.378155</td>\n",
       "      <td>-0.338321</td>\n",
       "      <td>0.462388</td>\n",
       "      <td>0.239599</td>\n",
       "      <td>0.098698</td>\n",
       "      <td>0.363787</td>\n",
       "      <td>...</td>\n",
       "      <td>-0.018307</td>\n",
       "      <td>0.277838</td>\n",
       "      <td>-0.110474</td>\n",
       "      <td>0.066928</td>\n",
       "      <td>0.128539</td>\n",
       "      <td>-0.189115</td>\n",
       "      <td>0.133558</td>\n",
       "      <td>-0.021053</td>\n",
       "      <td>149.62</td>\n",
       "      <td>0</td>\n",
       "    </tr>\n",
       "    <tr>\n",
       "      <th>1</th>\n",
       "      <td>0.0</td>\n",
       "      <td>1.191857</td>\n",
       "      <td>0.266151</td>\n",
       "      <td>0.166480</td>\n",
       "      <td>0.448154</td>\n",
       "      <td>0.060018</td>\n",
       "      <td>-0.082361</td>\n",
       "      <td>-0.078803</td>\n",
       "      <td>0.085102</td>\n",
       "      <td>-0.255425</td>\n",
       "      <td>...</td>\n",
       "      <td>-0.225775</td>\n",
       "      <td>-0.638672</td>\n",
       "      <td>0.101288</td>\n",
       "      <td>-0.339846</td>\n",
       "      <td>0.167170</td>\n",
       "      <td>0.125895</td>\n",
       "      <td>-0.008983</td>\n",
       "      <td>0.014724</td>\n",
       "      <td>2.69</td>\n",
       "      <td>0</td>\n",
       "    </tr>\n",
       "    <tr>\n",
       "      <th>2</th>\n",
       "      <td>1.0</td>\n",
       "      <td>-1.358354</td>\n",
       "      <td>-1.340163</td>\n",
       "      <td>1.773209</td>\n",
       "      <td>0.379780</td>\n",
       "      <td>-0.503198</td>\n",
       "      <td>1.800499</td>\n",
       "      <td>0.791461</td>\n",
       "      <td>0.247676</td>\n",
       "      <td>-1.514654</td>\n",
       "      <td>...</td>\n",
       "      <td>0.247998</td>\n",
       "      <td>0.771679</td>\n",
       "      <td>0.909412</td>\n",
       "      <td>-0.689281</td>\n",
       "      <td>-0.327642</td>\n",
       "      <td>-0.139097</td>\n",
       "      <td>-0.055353</td>\n",
       "      <td>-0.059752</td>\n",
       "      <td>378.66</td>\n",
       "      <td>0</td>\n",
       "    </tr>\n",
       "    <tr>\n",
       "      <th>3</th>\n",
       "      <td>1.0</td>\n",
       "      <td>-0.966272</td>\n",
       "      <td>-0.185226</td>\n",
       "      <td>1.792993</td>\n",
       "      <td>-0.863291</td>\n",
       "      <td>-0.010309</td>\n",
       "      <td>1.247203</td>\n",
       "      <td>0.237609</td>\n",
       "      <td>0.377436</td>\n",
       "      <td>-1.387024</td>\n",
       "      <td>...</td>\n",
       "      <td>-0.108300</td>\n",
       "      <td>0.005274</td>\n",
       "      <td>-0.190321</td>\n",
       "      <td>-1.175575</td>\n",
       "      <td>0.647376</td>\n",
       "      <td>-0.221929</td>\n",
       "      <td>0.062723</td>\n",
       "      <td>0.061458</td>\n",
       "      <td>123.50</td>\n",
       "      <td>0</td>\n",
       "    </tr>\n",
       "    <tr>\n",
       "      <th>4</th>\n",
       "      <td>2.0</td>\n",
       "      <td>-1.158233</td>\n",
       "      <td>0.877737</td>\n",
       "      <td>1.548718</td>\n",
       "      <td>0.403034</td>\n",
       "      <td>-0.407193</td>\n",
       "      <td>0.095921</td>\n",
       "      <td>0.592941</td>\n",
       "      <td>-0.270533</td>\n",
       "      <td>0.817739</td>\n",
       "      <td>...</td>\n",
       "      <td>-0.009431</td>\n",
       "      <td>0.798278</td>\n",
       "      <td>-0.137458</td>\n",
       "      <td>0.141267</td>\n",
       "      <td>-0.206010</td>\n",
       "      <td>0.502292</td>\n",
       "      <td>0.219422</td>\n",
       "      <td>0.215153</td>\n",
       "      <td>69.99</td>\n",
       "      <td>0</td>\n",
       "    </tr>\n",
       "  </tbody>\n",
       "</table>\n",
       "<p>5 rows × 31 columns</p>\n",
       "</div>"
      ],
      "text/plain": [
       "   Time        V1        V2        V3        V4        V5        V6        V7  \\\n",
       "0   0.0 -1.359807 -0.072781  2.536347  1.378155 -0.338321  0.462388  0.239599   \n",
       "1   0.0  1.191857  0.266151  0.166480  0.448154  0.060018 -0.082361 -0.078803   \n",
       "2   1.0 -1.358354 -1.340163  1.773209  0.379780 -0.503198  1.800499  0.791461   \n",
       "3   1.0 -0.966272 -0.185226  1.792993 -0.863291 -0.010309  1.247203  0.237609   \n",
       "4   2.0 -1.158233  0.877737  1.548718  0.403034 -0.407193  0.095921  0.592941   \n",
       "\n",
       "         V8        V9  ...       V21       V22       V23       V24       V25  \\\n",
       "0  0.098698  0.363787  ... -0.018307  0.277838 -0.110474  0.066928  0.128539   \n",
       "1  0.085102 -0.255425  ... -0.225775 -0.638672  0.101288 -0.339846  0.167170   \n",
       "2  0.247676 -1.514654  ...  0.247998  0.771679  0.909412 -0.689281 -0.327642   \n",
       "3  0.377436 -1.387024  ... -0.108300  0.005274 -0.190321 -1.175575  0.647376   \n",
       "4 -0.270533  0.817739  ... -0.009431  0.798278 -0.137458  0.141267 -0.206010   \n",
       "\n",
       "        V26       V27       V28  Amount  Class  \n",
       "0 -0.189115  0.133558 -0.021053  149.62      0  \n",
       "1  0.125895 -0.008983  0.014724    2.69      0  \n",
       "2 -0.139097 -0.055353 -0.059752  378.66      0  \n",
       "3 -0.221929  0.062723  0.061458  123.50      0  \n",
       "4  0.502292  0.219422  0.215153   69.99      0  \n",
       "\n",
       "[5 rows x 31 columns]"
      ]
     },
     "execution_count": 7,
     "metadata": {},
     "output_type": "execute_result"
    }
   ],
   "source": [
    "# Data overview\n",
    "credit_df.head()"
   ]
  },
  {
   "cell_type": "code",
   "execution_count": 8,
   "metadata": {},
   "outputs": [
    {
     "name": "stdout",
     "output_type": "stream",
     "text": [
      "Snapshot:\n"
     ]
    },
    {
     "data": {
      "text/html": [
       "<div>\n",
       "<style scoped>\n",
       "    .dataframe tbody tr th:only-of-type {\n",
       "        vertical-align: middle;\n",
       "    }\n",
       "\n",
       "    .dataframe tbody tr th {\n",
       "        vertical-align: top;\n",
       "    }\n",
       "\n",
       "    .dataframe thead th {\n",
       "        text-align: right;\n",
       "    }\n",
       "</style>\n",
       "<table border=\"1\" class=\"dataframe\">\n",
       "  <thead>\n",
       "    <tr style=\"text-align: right;\">\n",
       "      <th></th>\n",
       "      <th></th>\n",
       "    </tr>\n",
       "  </thead>\n",
       "  <tbody>\n",
       "    <tr>\n",
       "      <th>Rows</th>\n",
       "      <td>151112</td>\n",
       "    </tr>\n",
       "    <tr>\n",
       "      <th>Columns</th>\n",
       "      <td>11</td>\n",
       "    </tr>\n",
       "    <tr>\n",
       "      <th>Missing cells</th>\n",
       "      <td>0 (0.00 %)</td>\n",
       "    </tr>\n",
       "    <tr>\n",
       "      <th>Zeros</th>\n",
       "      <td>136961 (8.24 %)</td>\n",
       "    </tr>\n",
       "    <tr>\n",
       "      <th>Duplicate rows</th>\n",
       "      <td>0 (0.00 %)</td>\n",
       "    </tr>\n",
       "  </tbody>\n",
       "</table>\n",
       "</div>"
      ],
      "text/plain": [
       "                               \n",
       "Rows                     151112\n",
       "Columns                      11\n",
       "Missing cells        0 (0.00 %)\n",
       "Zeros           136961 (8.24 %)\n",
       "Duplicate rows       0 (0.00 %)"
      ]
     },
     "metadata": {},
     "output_type": "display_data"
    }
   ],
   "source": [
    "# Data Summary of Froudf df \n",
    "ds.data_summary(fraud_df)"
   ]
  },
  {
   "cell_type": "code",
   "execution_count": 9,
   "metadata": {},
   "outputs": [
    {
     "name": "stdout",
     "output_type": "stream",
     "text": [
      "Snapshot:\n"
     ]
    },
    {
     "data": {
      "text/html": [
       "<div>\n",
       "<style scoped>\n",
       "    .dataframe tbody tr th:only-of-type {\n",
       "        vertical-align: middle;\n",
       "    }\n",
       "\n",
       "    .dataframe tbody tr th {\n",
       "        vertical-align: top;\n",
       "    }\n",
       "\n",
       "    .dataframe thead th {\n",
       "        text-align: right;\n",
       "    }\n",
       "</style>\n",
       "<table border=\"1\" class=\"dataframe\">\n",
       "  <thead>\n",
       "    <tr style=\"text-align: right;\">\n",
       "      <th></th>\n",
       "      <th></th>\n",
       "    </tr>\n",
       "  </thead>\n",
       "  <tbody>\n",
       "    <tr>\n",
       "      <th>Rows</th>\n",
       "      <td>138846</td>\n",
       "    </tr>\n",
       "    <tr>\n",
       "      <th>Columns</th>\n",
       "      <td>3</td>\n",
       "    </tr>\n",
       "    <tr>\n",
       "      <th>Missing cells</th>\n",
       "      <td>0 (0.00 %)</td>\n",
       "    </tr>\n",
       "    <tr>\n",
       "      <th>Zeros</th>\n",
       "      <td>0 (0.00 %)</td>\n",
       "    </tr>\n",
       "    <tr>\n",
       "      <th>Duplicate rows</th>\n",
       "      <td>0 (0.00 %)</td>\n",
       "    </tr>\n",
       "  </tbody>\n",
       "</table>\n",
       "</div>"
      ],
      "text/plain": [
       "                          \n",
       "Rows                138846\n",
       "Columns                  3\n",
       "Missing cells   0 (0.00 %)\n",
       "Zeros           0 (0.00 %)\n",
       "Duplicate rows  0 (0.00 %)"
      ]
     },
     "metadata": {},
     "output_type": "display_data"
    }
   ],
   "source": [
    "# Country ip address overview \n",
    "ds.data_summary(ip_address_df)"
   ]
  },
  {
   "cell_type": "code",
   "execution_count": 10,
   "metadata": {},
   "outputs": [
    {
     "name": "stdout",
     "output_type": "stream",
     "text": [
      "Snapshot:\n"
     ]
    },
    {
     "data": {
      "text/html": [
       "<div>\n",
       "<style scoped>\n",
       "    .dataframe tbody tr th:only-of-type {\n",
       "        vertical-align: middle;\n",
       "    }\n",
       "\n",
       "    .dataframe tbody tr th {\n",
       "        vertical-align: top;\n",
       "    }\n",
       "\n",
       "    .dataframe thead th {\n",
       "        text-align: right;\n",
       "    }\n",
       "</style>\n",
       "<table border=\"1\" class=\"dataframe\">\n",
       "  <thead>\n",
       "    <tr style=\"text-align: right;\">\n",
       "      <th></th>\n",
       "      <th></th>\n",
       "    </tr>\n",
       "  </thead>\n",
       "  <tbody>\n",
       "    <tr>\n",
       "      <th>Rows</th>\n",
       "      <td>284807</td>\n",
       "    </tr>\n",
       "    <tr>\n",
       "      <th>Columns</th>\n",
       "      <td>31</td>\n",
       "    </tr>\n",
       "    <tr>\n",
       "      <th>Missing cells</th>\n",
       "      <td>0 (0.00 %)</td>\n",
       "    </tr>\n",
       "    <tr>\n",
       "      <th>Zeros</th>\n",
       "      <td>286142 (3.24 %)</td>\n",
       "    </tr>\n",
       "    <tr>\n",
       "      <th>Duplicate rows</th>\n",
       "      <td>1081 (0.38 %)</td>\n",
       "    </tr>\n",
       "  </tbody>\n",
       "</table>\n",
       "</div>"
      ],
      "text/plain": [
       "                               \n",
       "Rows                     284807\n",
       "Columns                      31\n",
       "Missing cells        0 (0.00 %)\n",
       "Zeros           286142 (3.24 %)\n",
       "Duplicate rows    1081 (0.38 %)"
      ]
     },
     "metadata": {},
     "output_type": "display_data"
    }
   ],
   "source": [
    "# Credit risk overview \n",
    "ds.data_summary(credit_df)"
   ]
  },
  {
   "cell_type": "code",
   "execution_count": 11,
   "metadata": {},
   "outputs": [
    {
     "data": {
      "text/html": [
       "<style type=\"text/css\">\n",
       "</style>\n",
       "<table id=\"T_1dd73\">\n",
       "  <thead>\n",
       "    <tr>\n",
       "      <th id=\"T_1dd73_level0_col0\" class=\"col_heading level0 col0\" >Column Name</th>\n",
       "      <th id=\"T_1dd73_level0_col1\" class=\"col_heading level0 col1\" >Inferred Data Type</th>\n",
       "    </tr>\n",
       "  </thead>\n",
       "  <tbody>\n",
       "    <tr>\n",
       "      <td id=\"T_1dd73_row0_col0\" class=\"data row0 col0\" >user_id</td>\n",
       "      <td id=\"T_1dd73_row0_col1\" class=\"data row0 col1\" >numeric</td>\n",
       "    </tr>\n",
       "    <tr>\n",
       "      <td id=\"T_1dd73_row1_col0\" class=\"data row1 col0\" >signup_time</td>\n",
       "      <td id=\"T_1dd73_row1_col1\" class=\"data row1 col1\" >date</td>\n",
       "    </tr>\n",
       "    <tr>\n",
       "      <td id=\"T_1dd73_row2_col0\" class=\"data row2 col0\" >purchase_time</td>\n",
       "      <td id=\"T_1dd73_row2_col1\" class=\"data row2 col1\" >date</td>\n",
       "    </tr>\n",
       "    <tr>\n",
       "      <td id=\"T_1dd73_row3_col0\" class=\"data row3 col0\" >purchase_value</td>\n",
       "      <td id=\"T_1dd73_row3_col1\" class=\"data row3 col1\" >numeric</td>\n",
       "    </tr>\n",
       "    <tr>\n",
       "      <td id=\"T_1dd73_row4_col0\" class=\"data row4 col0\" >device_id</td>\n",
       "      <td id=\"T_1dd73_row4_col1\" class=\"data row4 col1\" >categorical</td>\n",
       "    </tr>\n",
       "    <tr>\n",
       "      <td id=\"T_1dd73_row5_col0\" class=\"data row5 col0\" >source</td>\n",
       "      <td id=\"T_1dd73_row5_col1\" class=\"data row5 col1\" >categorical</td>\n",
       "    </tr>\n",
       "    <tr>\n",
       "      <td id=\"T_1dd73_row6_col0\" class=\"data row6 col0\" >browser</td>\n",
       "      <td id=\"T_1dd73_row6_col1\" class=\"data row6 col1\" >categorical</td>\n",
       "    </tr>\n",
       "    <tr>\n",
       "      <td id=\"T_1dd73_row7_col0\" class=\"data row7 col0\" >sex</td>\n",
       "      <td id=\"T_1dd73_row7_col1\" class=\"data row7 col1\" >categorical</td>\n",
       "    </tr>\n",
       "    <tr>\n",
       "      <td id=\"T_1dd73_row8_col0\" class=\"data row8 col0\" >age</td>\n",
       "      <td id=\"T_1dd73_row8_col1\" class=\"data row8 col1\" >numeric</td>\n",
       "    </tr>\n",
       "    <tr>\n",
       "      <td id=\"T_1dd73_row9_col0\" class=\"data row9 col0\" >ip_address</td>\n",
       "      <td id=\"T_1dd73_row9_col1\" class=\"data row9 col1\" >numeric</td>\n",
       "    </tr>\n",
       "    <tr>\n",
       "      <td id=\"T_1dd73_row10_col0\" class=\"data row10 col0\" >class</td>\n",
       "      <td id=\"T_1dd73_row10_col1\" class=\"data row10 col1\" >boolean</td>\n",
       "    </tr>\n",
       "  </tbody>\n",
       "</table>\n"
      ],
      "text/plain": [
       "<pandas.io.formats.style.Styler at 0x288ff01c110>"
      ]
     },
     "metadata": {},
     "output_type": "display_data"
    }
   ],
   "source": [
    "ds.data_types(fraud_df)"
   ]
  },
  {
   "cell_type": "markdown",
   "metadata": {},
   "source": [
    "##### Correct Data Type"
   ]
  },
  {
   "cell_type": "code",
   "execution_count": 12,
   "metadata": {},
   "outputs": [],
   "source": [
    "# Converting date column to datetime format \n",
    "fraud_df['signup_time'] = pd.to_datetime(fraud_df['signup_time'])\n",
    "fraud_df['purchase_time'] = pd.to_datetime(fraud_df['purchase_time'])"
   ]
  },
  {
   "cell_type": "code",
   "execution_count": 13,
   "metadata": {},
   "outputs": [
    {
     "data": {
      "text/html": [
       "<style type=\"text/css\">\n",
       "</style>\n",
       "<table id=\"T_074f5\">\n",
       "  <thead>\n",
       "    <tr>\n",
       "      <th id=\"T_074f5_level0_col0\" class=\"col_heading level0 col0\" >Column Name</th>\n",
       "      <th id=\"T_074f5_level0_col1\" class=\"col_heading level0 col1\" >Inferred Data Type</th>\n",
       "    </tr>\n",
       "  </thead>\n",
       "  <tbody>\n",
       "    <tr>\n",
       "      <td id=\"T_074f5_row0_col0\" class=\"data row0 col0\" >lower_bound_ip_address</td>\n",
       "      <td id=\"T_074f5_row0_col1\" class=\"data row0 col1\" >numeric</td>\n",
       "    </tr>\n",
       "    <tr>\n",
       "      <td id=\"T_074f5_row1_col0\" class=\"data row1 col0\" >upper_bound_ip_address</td>\n",
       "      <td id=\"T_074f5_row1_col1\" class=\"data row1 col1\" >numeric</td>\n",
       "    </tr>\n",
       "    <tr>\n",
       "      <td id=\"T_074f5_row2_col0\" class=\"data row2 col0\" >country</td>\n",
       "      <td id=\"T_074f5_row2_col1\" class=\"data row2 col1\" >categorical</td>\n",
       "    </tr>\n",
       "  </tbody>\n",
       "</table>\n"
      ],
      "text/plain": [
       "<pandas.io.formats.style.Styler at 0x288ff023260>"
      ]
     },
     "metadata": {},
     "output_type": "display_data"
    }
   ],
   "source": [
    "# Country ip adress data types \n",
    "ds.data_types(ip_address_df)"
   ]
  },
  {
   "cell_type": "code",
   "execution_count": 14,
   "metadata": {},
   "outputs": [
    {
     "data": {
      "text/html": [
       "<style type=\"text/css\">\n",
       "</style>\n",
       "<table id=\"T_806c7\">\n",
       "  <thead>\n",
       "    <tr>\n",
       "      <th id=\"T_806c7_level0_col0\" class=\"col_heading level0 col0\" >Column Name</th>\n",
       "      <th id=\"T_806c7_level0_col1\" class=\"col_heading level0 col1\" >Inferred Data Type</th>\n",
       "    </tr>\n",
       "  </thead>\n",
       "  <tbody>\n",
       "    <tr>\n",
       "      <td id=\"T_806c7_row0_col0\" class=\"data row0 col0\" >Time</td>\n",
       "      <td id=\"T_806c7_row0_col1\" class=\"data row0 col1\" >numeric</td>\n",
       "    </tr>\n",
       "    <tr>\n",
       "      <td id=\"T_806c7_row1_col0\" class=\"data row1 col0\" >V1</td>\n",
       "      <td id=\"T_806c7_row1_col1\" class=\"data row1 col1\" >numeric</td>\n",
       "    </tr>\n",
       "    <tr>\n",
       "      <td id=\"T_806c7_row2_col0\" class=\"data row2 col0\" >V2</td>\n",
       "      <td id=\"T_806c7_row2_col1\" class=\"data row2 col1\" >numeric</td>\n",
       "    </tr>\n",
       "    <tr>\n",
       "      <td id=\"T_806c7_row3_col0\" class=\"data row3 col0\" >V3</td>\n",
       "      <td id=\"T_806c7_row3_col1\" class=\"data row3 col1\" >numeric</td>\n",
       "    </tr>\n",
       "    <tr>\n",
       "      <td id=\"T_806c7_row4_col0\" class=\"data row4 col0\" >V4</td>\n",
       "      <td id=\"T_806c7_row4_col1\" class=\"data row4 col1\" >numeric</td>\n",
       "    </tr>\n",
       "    <tr>\n",
       "      <td id=\"T_806c7_row5_col0\" class=\"data row5 col0\" >V5</td>\n",
       "      <td id=\"T_806c7_row5_col1\" class=\"data row5 col1\" >numeric</td>\n",
       "    </tr>\n",
       "    <tr>\n",
       "      <td id=\"T_806c7_row6_col0\" class=\"data row6 col0\" >V6</td>\n",
       "      <td id=\"T_806c7_row6_col1\" class=\"data row6 col1\" >numeric</td>\n",
       "    </tr>\n",
       "    <tr>\n",
       "      <td id=\"T_806c7_row7_col0\" class=\"data row7 col0\" >V7</td>\n",
       "      <td id=\"T_806c7_row7_col1\" class=\"data row7 col1\" >numeric</td>\n",
       "    </tr>\n",
       "    <tr>\n",
       "      <td id=\"T_806c7_row8_col0\" class=\"data row8 col0\" >V8</td>\n",
       "      <td id=\"T_806c7_row8_col1\" class=\"data row8 col1\" >numeric</td>\n",
       "    </tr>\n",
       "    <tr>\n",
       "      <td id=\"T_806c7_row9_col0\" class=\"data row9 col0\" >V9</td>\n",
       "      <td id=\"T_806c7_row9_col1\" class=\"data row9 col1\" >numeric</td>\n",
       "    </tr>\n",
       "    <tr>\n",
       "      <td id=\"T_806c7_row10_col0\" class=\"data row10 col0\" >V10</td>\n",
       "      <td id=\"T_806c7_row10_col1\" class=\"data row10 col1\" >numeric</td>\n",
       "    </tr>\n",
       "    <tr>\n",
       "      <td id=\"T_806c7_row11_col0\" class=\"data row11 col0\" >V11</td>\n",
       "      <td id=\"T_806c7_row11_col1\" class=\"data row11 col1\" >numeric</td>\n",
       "    </tr>\n",
       "    <tr>\n",
       "      <td id=\"T_806c7_row12_col0\" class=\"data row12 col0\" >V12</td>\n",
       "      <td id=\"T_806c7_row12_col1\" class=\"data row12 col1\" >numeric</td>\n",
       "    </tr>\n",
       "    <tr>\n",
       "      <td id=\"T_806c7_row13_col0\" class=\"data row13 col0\" >V13</td>\n",
       "      <td id=\"T_806c7_row13_col1\" class=\"data row13 col1\" >numeric</td>\n",
       "    </tr>\n",
       "    <tr>\n",
       "      <td id=\"T_806c7_row14_col0\" class=\"data row14 col0\" >V14</td>\n",
       "      <td id=\"T_806c7_row14_col1\" class=\"data row14 col1\" >numeric</td>\n",
       "    </tr>\n",
       "    <tr>\n",
       "      <td id=\"T_806c7_row15_col0\" class=\"data row15 col0\" >V15</td>\n",
       "      <td id=\"T_806c7_row15_col1\" class=\"data row15 col1\" >numeric</td>\n",
       "    </tr>\n",
       "    <tr>\n",
       "      <td id=\"T_806c7_row16_col0\" class=\"data row16 col0\" >V16</td>\n",
       "      <td id=\"T_806c7_row16_col1\" class=\"data row16 col1\" >numeric</td>\n",
       "    </tr>\n",
       "    <tr>\n",
       "      <td id=\"T_806c7_row17_col0\" class=\"data row17 col0\" >V17</td>\n",
       "      <td id=\"T_806c7_row17_col1\" class=\"data row17 col1\" >numeric</td>\n",
       "    </tr>\n",
       "    <tr>\n",
       "      <td id=\"T_806c7_row18_col0\" class=\"data row18 col0\" >V18</td>\n",
       "      <td id=\"T_806c7_row18_col1\" class=\"data row18 col1\" >numeric</td>\n",
       "    </tr>\n",
       "    <tr>\n",
       "      <td id=\"T_806c7_row19_col0\" class=\"data row19 col0\" >V19</td>\n",
       "      <td id=\"T_806c7_row19_col1\" class=\"data row19 col1\" >numeric</td>\n",
       "    </tr>\n",
       "    <tr>\n",
       "      <td id=\"T_806c7_row20_col0\" class=\"data row20 col0\" >V20</td>\n",
       "      <td id=\"T_806c7_row20_col1\" class=\"data row20 col1\" >numeric</td>\n",
       "    </tr>\n",
       "    <tr>\n",
       "      <td id=\"T_806c7_row21_col0\" class=\"data row21 col0\" >V21</td>\n",
       "      <td id=\"T_806c7_row21_col1\" class=\"data row21 col1\" >numeric</td>\n",
       "    </tr>\n",
       "    <tr>\n",
       "      <td id=\"T_806c7_row22_col0\" class=\"data row22 col0\" >V22</td>\n",
       "      <td id=\"T_806c7_row22_col1\" class=\"data row22 col1\" >numeric</td>\n",
       "    </tr>\n",
       "    <tr>\n",
       "      <td id=\"T_806c7_row23_col0\" class=\"data row23 col0\" >V23</td>\n",
       "      <td id=\"T_806c7_row23_col1\" class=\"data row23 col1\" >numeric</td>\n",
       "    </tr>\n",
       "    <tr>\n",
       "      <td id=\"T_806c7_row24_col0\" class=\"data row24 col0\" >V24</td>\n",
       "      <td id=\"T_806c7_row24_col1\" class=\"data row24 col1\" >numeric</td>\n",
       "    </tr>\n",
       "    <tr>\n",
       "      <td id=\"T_806c7_row25_col0\" class=\"data row25 col0\" >V25</td>\n",
       "      <td id=\"T_806c7_row25_col1\" class=\"data row25 col1\" >numeric</td>\n",
       "    </tr>\n",
       "    <tr>\n",
       "      <td id=\"T_806c7_row26_col0\" class=\"data row26 col0\" >V26</td>\n",
       "      <td id=\"T_806c7_row26_col1\" class=\"data row26 col1\" >numeric</td>\n",
       "    </tr>\n",
       "    <tr>\n",
       "      <td id=\"T_806c7_row27_col0\" class=\"data row27 col0\" >V27</td>\n",
       "      <td id=\"T_806c7_row27_col1\" class=\"data row27 col1\" >numeric</td>\n",
       "    </tr>\n",
       "    <tr>\n",
       "      <td id=\"T_806c7_row28_col0\" class=\"data row28 col0\" >V28</td>\n",
       "      <td id=\"T_806c7_row28_col1\" class=\"data row28 col1\" >numeric</td>\n",
       "    </tr>\n",
       "    <tr>\n",
       "      <td id=\"T_806c7_row29_col0\" class=\"data row29 col0\" >Amount</td>\n",
       "      <td id=\"T_806c7_row29_col1\" class=\"data row29 col1\" >numeric</td>\n",
       "    </tr>\n",
       "    <tr>\n",
       "      <td id=\"T_806c7_row30_col0\" class=\"data row30 col0\" >Class</td>\n",
       "      <td id=\"T_806c7_row30_col1\" class=\"data row30 col1\" >boolean</td>\n",
       "    </tr>\n",
       "  </tbody>\n",
       "</table>\n"
      ],
      "text/plain": [
       "<pandas.io.formats.style.Styler at 0x288ff023d10>"
      ]
     },
     "metadata": {},
     "output_type": "display_data"
    }
   ],
   "source": [
    "# Credit \n",
    "ds.data_types(credit_df)"
   ]
  },
  {
   "cell_type": "code",
   "execution_count": 15,
   "metadata": {},
   "outputs": [
    {
     "name": "stdout",
     "output_type": "stream",
     "text": [
      "There are no missing values\n"
     ]
    }
   ],
   "source": [
    "ds.missing_values(fraud_df)"
   ]
  },
  {
   "cell_type": "code",
   "execution_count": 16,
   "metadata": {},
   "outputs": [
    {
     "name": "stdout",
     "output_type": "stream",
     "text": [
      "There are no missing values\n"
     ]
    }
   ],
   "source": [
    "ds.missing_values(ip_address_df)"
   ]
  },
  {
   "cell_type": "code",
   "execution_count": 17,
   "metadata": {},
   "outputs": [
    {
     "name": "stdout",
     "output_type": "stream",
     "text": [
      "There are no missing values\n"
     ]
    }
   ],
   "source": [
    "ds.missing_values(credit_df)"
   ]
  },
  {
   "cell_type": "code",
   "execution_count": 18,
   "metadata": {},
   "outputs": [
    {
     "data": {
      "text/html": [
       "<style type=\"text/css\">\n",
       "#T_141b7_row0_col2 {\n",
       "  width: 10em;\n",
       "  background: linear-gradient(90deg, #FFA07A 90.6%, transparent 90.6%);\n",
       "}\n",
       "#T_141b7_row1_col2, #T_141b7_row2_col2, #T_141b7_row3_col2, #T_141b7_row4_col2, #T_141b7_row5_col2, #T_141b7_row6_col2, #T_141b7_row7_col2, #T_141b7_row8_col2, #T_141b7_row9_col2, #T_141b7_row10_col2 {\n",
       "  width: 10em;\n",
       "}\n",
       "</style>\n",
       "<table id=\"T_141b7\">\n",
       "  <thead>\n",
       "    <tr>\n",
       "      <th id=\"T_141b7_level0_col0\" class=\"col_heading level0 col0\" >Column Name</th>\n",
       "      <th id=\"T_141b7_level0_col1\" class=\"col_heading level0 col1\" ><i>0</i> Count</th>\n",
       "      <th id=\"T_141b7_level0_col2\" class=\"col_heading level0 col2\" ><i>0</i> %</th>\n",
       "    </tr>\n",
       "  </thead>\n",
       "  <tbody>\n",
       "    <tr>\n",
       "      <td id=\"T_141b7_row0_col0\" class=\"data row0 col0\" >class</td>\n",
       "      <td id=\"T_141b7_row0_col1\" class=\"data row0 col1\" >136961</td>\n",
       "      <td id=\"T_141b7_row0_col2\" class=\"data row0 col2\" >90.635</td>\n",
       "    </tr>\n",
       "    <tr>\n",
       "      <td id=\"T_141b7_row1_col0\" class=\"data row1 col0\" >signup_time</td>\n",
       "      <td id=\"T_141b7_row1_col1\" class=\"data row1 col1\" >0</td>\n",
       "      <td id=\"T_141b7_row1_col2\" class=\"data row1 col2\" >0.000</td>\n",
       "    </tr>\n",
       "    <tr>\n",
       "      <td id=\"T_141b7_row2_col0\" class=\"data row2 col0\" >user_id</td>\n",
       "      <td id=\"T_141b7_row2_col1\" class=\"data row2 col1\" >0</td>\n",
       "      <td id=\"T_141b7_row2_col2\" class=\"data row2 col2\" >0.000</td>\n",
       "    </tr>\n",
       "    <tr>\n",
       "      <td id=\"T_141b7_row3_col0\" class=\"data row3 col0\" >purchase_time</td>\n",
       "      <td id=\"T_141b7_row3_col1\" class=\"data row3 col1\" >0</td>\n",
       "      <td id=\"T_141b7_row3_col2\" class=\"data row3 col2\" >0.000</td>\n",
       "    </tr>\n",
       "    <tr>\n",
       "      <td id=\"T_141b7_row4_col0\" class=\"data row4 col0\" >purchase_value</td>\n",
       "      <td id=\"T_141b7_row4_col1\" class=\"data row4 col1\" >0</td>\n",
       "      <td id=\"T_141b7_row4_col2\" class=\"data row4 col2\" >0.000</td>\n",
       "    </tr>\n",
       "    <tr>\n",
       "      <td id=\"T_141b7_row5_col0\" class=\"data row5 col0\" >source</td>\n",
       "      <td id=\"T_141b7_row5_col1\" class=\"data row5 col1\" >0</td>\n",
       "      <td id=\"T_141b7_row5_col2\" class=\"data row5 col2\" >0.000</td>\n",
       "    </tr>\n",
       "    <tr>\n",
       "      <td id=\"T_141b7_row6_col0\" class=\"data row6 col0\" >device_id</td>\n",
       "      <td id=\"T_141b7_row6_col1\" class=\"data row6 col1\" >0</td>\n",
       "      <td id=\"T_141b7_row6_col2\" class=\"data row6 col2\" >0.000</td>\n",
       "    </tr>\n",
       "    <tr>\n",
       "      <td id=\"T_141b7_row7_col0\" class=\"data row7 col0\" >browser</td>\n",
       "      <td id=\"T_141b7_row7_col1\" class=\"data row7 col1\" >0</td>\n",
       "      <td id=\"T_141b7_row7_col2\" class=\"data row7 col2\" >0.000</td>\n",
       "    </tr>\n",
       "    <tr>\n",
       "      <td id=\"T_141b7_row8_col0\" class=\"data row8 col0\" >sex</td>\n",
       "      <td id=\"T_141b7_row8_col1\" class=\"data row8 col1\" >0</td>\n",
       "      <td id=\"T_141b7_row8_col2\" class=\"data row8 col2\" >0.000</td>\n",
       "    </tr>\n",
       "    <tr>\n",
       "      <td id=\"T_141b7_row9_col0\" class=\"data row9 col0\" >age</td>\n",
       "      <td id=\"T_141b7_row9_col1\" class=\"data row9 col1\" >0</td>\n",
       "      <td id=\"T_141b7_row9_col2\" class=\"data row9 col2\" >0.000</td>\n",
       "    </tr>\n",
       "    <tr>\n",
       "      <td id=\"T_141b7_row10_col0\" class=\"data row10 col0\" >ip_address</td>\n",
       "      <td id=\"T_141b7_row10_col1\" class=\"data row10 col1\" >0</td>\n",
       "      <td id=\"T_141b7_row10_col2\" class=\"data row10 col2\" >0.000</td>\n",
       "    </tr>\n",
       "  </tbody>\n",
       "</table>\n"
      ],
      "text/plain": [
       "<pandas.io.formats.style.Styler at 0x288fefd3110>"
      ]
     },
     "metadata": {},
     "output_type": "display_data"
    }
   ],
   "source": [
    "ds.constant_occurrence(fraud_df)"
   ]
  },
  {
   "cell_type": "code",
   "execution_count": 30,
   "metadata": {},
   "outputs": [
    {
     "name": "stdout",
     "output_type": "stream",
     "text": [
      "No Frouds: 90.64% of dataset\n",
      "Frouds: 9.36% of dataset\n"
     ]
    }
   ],
   "source": [
    "# The class are highyl skewed, let's check in detail\n",
    "print(f\"No Frouds: {round(fraud_df['class'].value_counts(normalize=True)[0] * 100, 2)}% of dataset\")\n",
    "print(f\"Frouds: {round(fraud_df['class'].value_counts(normalize=True)[1] * 100, 2)}% of dataset\")"
   ]
  },
  {
   "cell_type": "code",
   "execution_count": 19,
   "metadata": {},
   "outputs": [
    {
     "data": {
      "text/html": [
       "<style type=\"text/css\">\n",
       "#T_cd34e_row0_col2, #T_cd34e_row1_col2, #T_cd34e_row2_col2 {\n",
       "  width: 10em;\n",
       "}\n",
       "</style>\n",
       "<table id=\"T_cd34e\">\n",
       "  <thead>\n",
       "    <tr>\n",
       "      <th id=\"T_cd34e_level0_col0\" class=\"col_heading level0 col0\" >Column Name</th>\n",
       "      <th id=\"T_cd34e_level0_col1\" class=\"col_heading level0 col1\" ><i>0</i> Count</th>\n",
       "      <th id=\"T_cd34e_level0_col2\" class=\"col_heading level0 col2\" ><i>0</i> %</th>\n",
       "    </tr>\n",
       "  </thead>\n",
       "  <tbody>\n",
       "    <tr>\n",
       "      <td id=\"T_cd34e_row0_col0\" class=\"data row0 col0\" >lower_bound_ip_address</td>\n",
       "      <td id=\"T_cd34e_row0_col1\" class=\"data row0 col1\" >0</td>\n",
       "      <td id=\"T_cd34e_row0_col2\" class=\"data row0 col2\" >0.000</td>\n",
       "    </tr>\n",
       "    <tr>\n",
       "      <td id=\"T_cd34e_row1_col0\" class=\"data row1 col0\" >upper_bound_ip_address</td>\n",
       "      <td id=\"T_cd34e_row1_col1\" class=\"data row1 col1\" >0</td>\n",
       "      <td id=\"T_cd34e_row1_col2\" class=\"data row1 col2\" >0.000</td>\n",
       "    </tr>\n",
       "    <tr>\n",
       "      <td id=\"T_cd34e_row2_col0\" class=\"data row2 col0\" >country</td>\n",
       "      <td id=\"T_cd34e_row2_col1\" class=\"data row2 col1\" >0</td>\n",
       "      <td id=\"T_cd34e_row2_col2\" class=\"data row2 col2\" >0.000</td>\n",
       "    </tr>\n",
       "  </tbody>\n",
       "</table>\n"
      ],
      "text/plain": [
       "<pandas.io.formats.style.Styler at 0x288fefd3110>"
      ]
     },
     "metadata": {},
     "output_type": "display_data"
    }
   ],
   "source": [
    "ds.constant_occurrence(ip_address_df)"
   ]
  },
  {
   "cell_type": "code",
   "execution_count": 20,
   "metadata": {},
   "outputs": [
    {
     "data": {
      "text/html": [
       "<style type=\"text/css\">\n",
       "#T_06aba_row0_col2 {\n",
       "  width: 10em;\n",
       "  background: linear-gradient(90deg, #FFA07A 99.8%, transparent 99.8%);\n",
       "}\n",
       "#T_06aba_row1_col2 {\n",
       "  width: 10em;\n",
       "  background: linear-gradient(90deg, #FFA07A 0.6%, transparent 0.6%);\n",
       "}\n",
       "#T_06aba_row2_col2 {\n",
       "  width: 10em;\n",
       "  background: linear-gradient(90deg, #FFA07A 0.0%, transparent 0.0%);\n",
       "}\n",
       "#T_06aba_row3_col2, #T_06aba_row4_col2, #T_06aba_row5_col2, #T_06aba_row6_col2, #T_06aba_row7_col2, #T_06aba_row8_col2, #T_06aba_row9_col2, #T_06aba_row10_col2, #T_06aba_row11_col2, #T_06aba_row12_col2, #T_06aba_row13_col2, #T_06aba_row14_col2, #T_06aba_row15_col2, #T_06aba_row16_col2, #T_06aba_row17_col2, #T_06aba_row18_col2, #T_06aba_row19_col2, #T_06aba_row20_col2, #T_06aba_row21_col2, #T_06aba_row22_col2, #T_06aba_row23_col2, #T_06aba_row24_col2, #T_06aba_row25_col2, #T_06aba_row26_col2, #T_06aba_row27_col2, #T_06aba_row28_col2, #T_06aba_row29_col2, #T_06aba_row30_col2 {\n",
       "  width: 10em;\n",
       "}\n",
       "</style>\n",
       "<table id=\"T_06aba\">\n",
       "  <thead>\n",
       "    <tr>\n",
       "      <th id=\"T_06aba_level0_col0\" class=\"col_heading level0 col0\" >Column Name</th>\n",
       "      <th id=\"T_06aba_level0_col1\" class=\"col_heading level0 col1\" ><i>0</i> Count</th>\n",
       "      <th id=\"T_06aba_level0_col2\" class=\"col_heading level0 col2\" ><i>0</i> %</th>\n",
       "    </tr>\n",
       "  </thead>\n",
       "  <tbody>\n",
       "    <tr>\n",
       "      <td id=\"T_06aba_row0_col0\" class=\"data row0 col0\" >Class</td>\n",
       "      <td id=\"T_06aba_row0_col1\" class=\"data row0 col1\" >284315</td>\n",
       "      <td id=\"T_06aba_row0_col2\" class=\"data row0 col2\" >99.827</td>\n",
       "    </tr>\n",
       "    <tr>\n",
       "      <td id=\"T_06aba_row1_col0\" class=\"data row1 col0\" >Amount</td>\n",
       "      <td id=\"T_06aba_row1_col1\" class=\"data row1 col1\" >1825</td>\n",
       "      <td id=\"T_06aba_row1_col2\" class=\"data row1 col2\" >0.641</td>\n",
       "    </tr>\n",
       "    <tr>\n",
       "      <td id=\"T_06aba_row2_col0\" class=\"data row2 col0\" >Time</td>\n",
       "      <td id=\"T_06aba_row2_col1\" class=\"data row2 col1\" >2</td>\n",
       "      <td id=\"T_06aba_row2_col2\" class=\"data row2 col2\" >0.001</td>\n",
       "    </tr>\n",
       "    <tr>\n",
       "      <td id=\"T_06aba_row3_col0\" class=\"data row3 col0\" >V3</td>\n",
       "      <td id=\"T_06aba_row3_col1\" class=\"data row3 col1\" >0</td>\n",
       "      <td id=\"T_06aba_row3_col2\" class=\"data row3 col2\" >0.000</td>\n",
       "    </tr>\n",
       "    <tr>\n",
       "      <td id=\"T_06aba_row4_col0\" class=\"data row4 col0\" >V4</td>\n",
       "      <td id=\"T_06aba_row4_col1\" class=\"data row4 col1\" >0</td>\n",
       "      <td id=\"T_06aba_row4_col2\" class=\"data row4 col2\" >0.000</td>\n",
       "    </tr>\n",
       "    <tr>\n",
       "      <td id=\"T_06aba_row5_col0\" class=\"data row5 col0\" >V1</td>\n",
       "      <td id=\"T_06aba_row5_col1\" class=\"data row5 col1\" >0</td>\n",
       "      <td id=\"T_06aba_row5_col2\" class=\"data row5 col2\" >0.000</td>\n",
       "    </tr>\n",
       "    <tr>\n",
       "      <td id=\"T_06aba_row6_col0\" class=\"data row6 col0\" >V2</td>\n",
       "      <td id=\"T_06aba_row6_col1\" class=\"data row6 col1\" >0</td>\n",
       "      <td id=\"T_06aba_row6_col2\" class=\"data row6 col2\" >0.000</td>\n",
       "    </tr>\n",
       "    <tr>\n",
       "      <td id=\"T_06aba_row7_col0\" class=\"data row7 col0\" >V7</td>\n",
       "      <td id=\"T_06aba_row7_col1\" class=\"data row7 col1\" >0</td>\n",
       "      <td id=\"T_06aba_row7_col2\" class=\"data row7 col2\" >0.000</td>\n",
       "    </tr>\n",
       "    <tr>\n",
       "      <td id=\"T_06aba_row8_col0\" class=\"data row8 col0\" >V8</td>\n",
       "      <td id=\"T_06aba_row8_col1\" class=\"data row8 col1\" >0</td>\n",
       "      <td id=\"T_06aba_row8_col2\" class=\"data row8 col2\" >0.000</td>\n",
       "    </tr>\n",
       "    <tr>\n",
       "      <td id=\"T_06aba_row9_col0\" class=\"data row9 col0\" >V9</td>\n",
       "      <td id=\"T_06aba_row9_col1\" class=\"data row9 col1\" >0</td>\n",
       "      <td id=\"T_06aba_row9_col2\" class=\"data row9 col2\" >0.000</td>\n",
       "    </tr>\n",
       "    <tr>\n",
       "      <td id=\"T_06aba_row10_col0\" class=\"data row10 col0\" >V10</td>\n",
       "      <td id=\"T_06aba_row10_col1\" class=\"data row10 col1\" >0</td>\n",
       "      <td id=\"T_06aba_row10_col2\" class=\"data row10 col2\" >0.000</td>\n",
       "    </tr>\n",
       "    <tr>\n",
       "      <td id=\"T_06aba_row11_col0\" class=\"data row11 col0\" >V11</td>\n",
       "      <td id=\"T_06aba_row11_col1\" class=\"data row11 col1\" >0</td>\n",
       "      <td id=\"T_06aba_row11_col2\" class=\"data row11 col2\" >0.000</td>\n",
       "    </tr>\n",
       "    <tr>\n",
       "      <td id=\"T_06aba_row12_col0\" class=\"data row12 col0\" >V12</td>\n",
       "      <td id=\"T_06aba_row12_col1\" class=\"data row12 col1\" >0</td>\n",
       "      <td id=\"T_06aba_row12_col2\" class=\"data row12 col2\" >0.000</td>\n",
       "    </tr>\n",
       "    <tr>\n",
       "      <td id=\"T_06aba_row13_col0\" class=\"data row13 col0\" >V5</td>\n",
       "      <td id=\"T_06aba_row13_col1\" class=\"data row13 col1\" >0</td>\n",
       "      <td id=\"T_06aba_row13_col2\" class=\"data row13 col2\" >0.000</td>\n",
       "    </tr>\n",
       "    <tr>\n",
       "      <td id=\"T_06aba_row14_col0\" class=\"data row14 col0\" >V6</td>\n",
       "      <td id=\"T_06aba_row14_col1\" class=\"data row14 col1\" >0</td>\n",
       "      <td id=\"T_06aba_row14_col2\" class=\"data row14 col2\" >0.000</td>\n",
       "    </tr>\n",
       "    <tr>\n",
       "      <td id=\"T_06aba_row15_col0\" class=\"data row15 col0\" >V14</td>\n",
       "      <td id=\"T_06aba_row15_col1\" class=\"data row15 col1\" >0</td>\n",
       "      <td id=\"T_06aba_row15_col2\" class=\"data row15 col2\" >0.000</td>\n",
       "    </tr>\n",
       "    <tr>\n",
       "      <td id=\"T_06aba_row16_col0\" class=\"data row16 col0\" >V13</td>\n",
       "      <td id=\"T_06aba_row16_col1\" class=\"data row16 col1\" >0</td>\n",
       "      <td id=\"T_06aba_row16_col2\" class=\"data row16 col2\" >0.000</td>\n",
       "    </tr>\n",
       "    <tr>\n",
       "      <td id=\"T_06aba_row17_col0\" class=\"data row17 col0\" >V15</td>\n",
       "      <td id=\"T_06aba_row17_col1\" class=\"data row17 col1\" >0</td>\n",
       "      <td id=\"T_06aba_row17_col2\" class=\"data row17 col2\" >0.000</td>\n",
       "    </tr>\n",
       "    <tr>\n",
       "      <td id=\"T_06aba_row18_col0\" class=\"data row18 col0\" >V16</td>\n",
       "      <td id=\"T_06aba_row18_col1\" class=\"data row18 col1\" >0</td>\n",
       "      <td id=\"T_06aba_row18_col2\" class=\"data row18 col2\" >0.000</td>\n",
       "    </tr>\n",
       "    <tr>\n",
       "      <td id=\"T_06aba_row19_col0\" class=\"data row19 col0\" >V19</td>\n",
       "      <td id=\"T_06aba_row19_col1\" class=\"data row19 col1\" >0</td>\n",
       "      <td id=\"T_06aba_row19_col2\" class=\"data row19 col2\" >0.000</td>\n",
       "    </tr>\n",
       "    <tr>\n",
       "      <td id=\"T_06aba_row20_col0\" class=\"data row20 col0\" >V20</td>\n",
       "      <td id=\"T_06aba_row20_col1\" class=\"data row20 col1\" >0</td>\n",
       "      <td id=\"T_06aba_row20_col2\" class=\"data row20 col2\" >0.000</td>\n",
       "    </tr>\n",
       "    <tr>\n",
       "      <td id=\"T_06aba_row21_col0\" class=\"data row21 col0\" >V17</td>\n",
       "      <td id=\"T_06aba_row21_col1\" class=\"data row21 col1\" >0</td>\n",
       "      <td id=\"T_06aba_row21_col2\" class=\"data row21 col2\" >0.000</td>\n",
       "    </tr>\n",
       "    <tr>\n",
       "      <td id=\"T_06aba_row22_col0\" class=\"data row22 col0\" >V18</td>\n",
       "      <td id=\"T_06aba_row22_col1\" class=\"data row22 col1\" >0</td>\n",
       "      <td id=\"T_06aba_row22_col2\" class=\"data row22 col2\" >0.000</td>\n",
       "    </tr>\n",
       "    <tr>\n",
       "      <td id=\"T_06aba_row23_col0\" class=\"data row23 col0\" >V22</td>\n",
       "      <td id=\"T_06aba_row23_col1\" class=\"data row23 col1\" >0</td>\n",
       "      <td id=\"T_06aba_row23_col2\" class=\"data row23 col2\" >0.000</td>\n",
       "    </tr>\n",
       "    <tr>\n",
       "      <td id=\"T_06aba_row24_col0\" class=\"data row24 col0\" >V21</td>\n",
       "      <td id=\"T_06aba_row24_col1\" class=\"data row24 col1\" >0</td>\n",
       "      <td id=\"T_06aba_row24_col2\" class=\"data row24 col2\" >0.000</td>\n",
       "    </tr>\n",
       "    <tr>\n",
       "      <td id=\"T_06aba_row25_col0\" class=\"data row25 col0\" >V23</td>\n",
       "      <td id=\"T_06aba_row25_col1\" class=\"data row25 col1\" >0</td>\n",
       "      <td id=\"T_06aba_row25_col2\" class=\"data row25 col2\" >0.000</td>\n",
       "    </tr>\n",
       "    <tr>\n",
       "      <td id=\"T_06aba_row26_col0\" class=\"data row26 col0\" >V24</td>\n",
       "      <td id=\"T_06aba_row26_col1\" class=\"data row26 col1\" >0</td>\n",
       "      <td id=\"T_06aba_row26_col2\" class=\"data row26 col2\" >0.000</td>\n",
       "    </tr>\n",
       "    <tr>\n",
       "      <td id=\"T_06aba_row27_col0\" class=\"data row27 col0\" >V26</td>\n",
       "      <td id=\"T_06aba_row27_col1\" class=\"data row27 col1\" >0</td>\n",
       "      <td id=\"T_06aba_row27_col2\" class=\"data row27 col2\" >0.000</td>\n",
       "    </tr>\n",
       "    <tr>\n",
       "      <td id=\"T_06aba_row28_col0\" class=\"data row28 col0\" >V25</td>\n",
       "      <td id=\"T_06aba_row28_col1\" class=\"data row28 col1\" >0</td>\n",
       "      <td id=\"T_06aba_row28_col2\" class=\"data row28 col2\" >0.000</td>\n",
       "    </tr>\n",
       "    <tr>\n",
       "      <td id=\"T_06aba_row29_col0\" class=\"data row29 col0\" >V28</td>\n",
       "      <td id=\"T_06aba_row29_col1\" class=\"data row29 col1\" >0</td>\n",
       "      <td id=\"T_06aba_row29_col2\" class=\"data row29 col2\" >0.000</td>\n",
       "    </tr>\n",
       "    <tr>\n",
       "      <td id=\"T_06aba_row30_col0\" class=\"data row30 col0\" >V27</td>\n",
       "      <td id=\"T_06aba_row30_col1\" class=\"data row30 col1\" >0</td>\n",
       "      <td id=\"T_06aba_row30_col2\" class=\"data row30 col2\" >0.000</td>\n",
       "    </tr>\n",
       "  </tbody>\n",
       "</table>\n"
      ],
      "text/plain": [
       "<pandas.io.formats.style.Styler at 0x288fefd2120>"
      ]
     },
     "metadata": {},
     "output_type": "display_data"
    }
   ],
   "source": [
    "ds.constant_occurrence(credit_df)"
   ]
  },
  {
   "cell_type": "code",
   "execution_count": 32,
   "metadata": {},
   "outputs": [
    {
     "name": "stdout",
     "output_type": "stream",
     "text": [
      "No Frouds: 99.83% of dataset\n",
      "Frouds: 0.17% of dataset\n"
     ]
    }
   ],
   "source": [
    "# The class are highyl skewed, let's check in detail\n",
    "print(f\"No Frouds: {round(credit_df['Class'].value_counts(normalize=True)[0] * 100, 2)}% of dataset\")\n",
    "print(f\"Frouds: {round(credit_df['Class'].value_counts(normalize=True)[1] * 100, 2)}% of dataset\")"
   ]
  },
  {
   "cell_type": "markdown",
   "metadata": {},
   "source": [
    " - Take a closer look at our original dataset - it's heavily skewed towards non-fraudulent transactions! This poses a significant challenge for our predictive models and analysis. If we use this dataset as is, our algorithms may become overly optimistic, assuming that most transactions are legitimate. However, this is not what we want. We need our model to be vigilant and identify subtle patterns that indicate potential fraud. To achieve this, we must address the class imbalance issue head-on. By doing so, we'll ensure our model is robust and effective in detecting fraudulent activity, rather than being misled by the overwhelming majority of non-fraudulent transactions."
   ]
  },
  {
   "cell_type": "code",
   "execution_count": 21,
   "metadata": {},
   "outputs": [
    {
     "name": "stdout",
     "output_type": "stream",
     "text": [
      "There are no duplicated rows\n"
     ]
    }
   ],
   "source": [
    "ds.duplicate_row_count(fraud_df)"
   ]
  },
  {
   "cell_type": "code",
   "execution_count": 22,
   "metadata": {},
   "outputs": [
    {
     "name": "stdout",
     "output_type": "stream",
     "text": [
      "There are no duplicated rows\n"
     ]
    }
   ],
   "source": [
    "ds.duplicate_row_count(ip_address_df)"
   ]
  },
  {
   "cell_type": "code",
   "execution_count": 23,
   "metadata": {},
   "outputs": [
    {
     "name": "stdout",
     "output_type": "stream",
     "text": [
      "Duplicate Row\n"
     ]
    },
    {
     "data": {
      "text/html": [
       "<div>\n",
       "<style scoped>\n",
       "    .dataframe tbody tr th:only-of-type {\n",
       "        vertical-align: middle;\n",
       "    }\n",
       "\n",
       "    .dataframe tbody tr th {\n",
       "        vertical-align: top;\n",
       "    }\n",
       "\n",
       "    .dataframe thead th {\n",
       "        text-align: right;\n",
       "    }\n",
       "</style>\n",
       "<table border=\"1\" class=\"dataframe\">\n",
       "  <thead>\n",
       "    <tr style=\"text-align: right;\">\n",
       "      <th></th>\n",
       "      <th></th>\n",
       "    </tr>\n",
       "  </thead>\n",
       "  <tbody>\n",
       "    <tr>\n",
       "      <th>Duplicate rows column subset</th>\n",
       "      <td>all columns</td>\n",
       "    </tr>\n",
       "    <tr>\n",
       "      <th>Duplicate row count</th>\n",
       "      <td>1081</td>\n",
       "    </tr>\n",
       "    <tr>\n",
       "      <th>Duplicate row percentage</th>\n",
       "      <td>0.38 %</td>\n",
       "    </tr>\n",
       "  </tbody>\n",
       "</table>\n",
       "</div>"
      ],
      "text/plain": [
       "                                         \n",
       "Duplicate rows column subset  all columns\n",
       "Duplicate row count                  1081\n",
       "Duplicate row percentage           0.38 %"
      ]
     },
     "metadata": {},
     "output_type": "display_data"
    }
   ],
   "source": [
    "ds.duplicate_row_count(credit_df)"
   ]
  },
  {
   "cell_type": "code",
   "execution_count": 24,
   "metadata": {},
   "outputs": [],
   "source": [
    "# Identify duplicated row and drop it\n",
    "duplicates = credit_df.duplicated()\n",
    "credit_df = credit_df[~duplicates]"
   ]
  },
  {
   "cell_type": "code",
   "execution_count": 25,
   "metadata": {},
   "outputs": [
    {
     "data": {
      "text/plain": [
       "np.int64(0)"
      ]
     },
     "execution_count": 25,
     "metadata": {},
     "output_type": "execute_result"
    }
   ],
   "source": [
    "# Confirm the duplicated rows are removed\n",
    "credit_df.duplicated().sum()"
   ]
  },
  {
   "cell_type": "markdown",
   "metadata": {},
   "source": [
    "## Exploratory Data Analysis (EDA)\n",
    "* Univariate analysis\n",
    "* Bivariate analysis"
   ]
  },
  {
   "cell_type": "markdown",
   "metadata": {},
   "source": [
    "#### Univariate Analysis for Fraud_Data.csv"
   ]
  },
  {
   "cell_type": "code",
   "execution_count": 35,
   "metadata": {},
   "outputs": [
    {
     "name": "stdout",
     "output_type": "stream",
     "text": [
      "class\n",
      "0    136961\n",
      "1     14151\n",
      "Name: count, dtype: int64\n",
      "class\n",
      "0    0.906354\n",
      "1    0.093646\n",
      "Name: proportion, dtype: float64\n"
     ]
    }
   ],
   "source": [
    "# Distribution of target variable (class)\n",
    "print(fraud_df['class'].value_counts())\n",
    "print(fraud_df['class'].value_counts(normalize=True))"
   ]
  },
  {
   "cell_type": "code",
   "execution_count": 36,
   "metadata": {},
   "outputs": [
    {
     "name": "stdout",
     "output_type": "stream",
     "text": [
      "count    151112.000000\n",
      "mean         36.935372\n",
      "std          18.322762\n",
      "min           9.000000\n",
      "25%          22.000000\n",
      "50%          35.000000\n",
      "75%          49.000000\n",
      "max         154.000000\n",
      "Name: purchase_value, dtype: float64\n"
     ]
    }
   ],
   "source": [
    "# Summary statistics for purchase_value\n",
    "print(fraud_df['purchase_value'].describe())"
   ]
  },
  {
   "cell_type": "code",
   "execution_count": 37,
   "metadata": {},
   "outputs": [
    {
     "name": "stdout",
     "output_type": "stream",
     "text": [
      "count    151112.000000\n",
      "mean         33.140704\n",
      "std           8.617733\n",
      "min          18.000000\n",
      "25%          27.000000\n",
      "50%          33.000000\n",
      "75%          39.000000\n",
      "max          76.000000\n",
      "Name: age, dtype: float64\n"
     ]
    }
   ],
   "source": [
    "# Distribution of age\n",
    "print(fraud_df['age'].describe())"
   ]
  }
 ],
 "metadata": {
  "kernelspec": {
   "display_name": "week8",
   "language": "python",
   "name": "python3"
  },
  "language_info": {
   "codemirror_mode": {
    "name": "ipython",
    "version": 3
   },
   "file_extension": ".py",
   "mimetype": "text/x-python",
   "name": "python",
   "nbconvert_exporter": "python",
   "pygments_lexer": "ipython3",
   "version": "3.12.5"
  }
 },
 "nbformat": 4,
 "nbformat_minor": 2
}
