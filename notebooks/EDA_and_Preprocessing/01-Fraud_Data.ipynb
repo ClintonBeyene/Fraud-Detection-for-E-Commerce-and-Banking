{
 "cells": [
  {
   "cell_type": "markdown",
   "metadata": {},
   "source": [
    "# Data Analysis and Preprocessing of Fraud data"
   ]
  },
  {
   "cell_type": "code",
   "execution_count": 10,
   "metadata": {},
   "outputs": [],
   "source": [
    "# Importing necessary lebraries\n",
    "import numpy as np\n",
    "import pandas as pd\n",
    "import os\n",
    "import sys"
   ]
  },
  {
   "cell_type": "code",
   "execution_count": 11,
   "metadata": {},
   "outputs": [],
   "source": [
    "sys.path.append(os.path.join(os.path.abspath('../..')))"
   ]
  },
  {
   "cell_type": "code",
   "execution_count": 12,
   "metadata": {},
   "outputs": [],
   "source": [
    "# Import modules\n",
    "from src import data_loading as dl\n",
    "from src import data_summarry as ds\n",
    "from src import formatting as fm\n",
    "from src import univariate_analysis as uv"
   ]
  },
  {
   "cell_type": "code",
   "execution_count": 13,
   "metadata": {},
   "outputs": [],
   "source": [
    "# Load the data set \n",
    "fraud_df = dl.load_data(\"Fraud_Data.csv\") # Includes e-commerce transaction data aimed at identifying fraudulent activities.\n"
   ]
  },
  {
   "cell_type": "code",
   "execution_count": 14,
   "metadata": {},
   "outputs": [
    {
     "data": {
      "text/html": [
       "<div>\n",
       "<style scoped>\n",
       "    .dataframe tbody tr th:only-of-type {\n",
       "        vertical-align: middle;\n",
       "    }\n",
       "\n",
       "    .dataframe tbody tr th {\n",
       "        vertical-align: top;\n",
       "    }\n",
       "\n",
       "    .dataframe thead th {\n",
       "        text-align: right;\n",
       "    }\n",
       "</style>\n",
       "<table border=\"1\" class=\"dataframe\">\n",
       "  <thead>\n",
       "    <tr style=\"text-align: right;\">\n",
       "      <th></th>\n",
       "      <th>user_id</th>\n",
       "      <th>signup_time</th>\n",
       "      <th>purchase_time</th>\n",
       "      <th>purchase_value</th>\n",
       "      <th>device_id</th>\n",
       "      <th>source</th>\n",
       "      <th>browser</th>\n",
       "      <th>sex</th>\n",
       "      <th>age</th>\n",
       "      <th>ip_address</th>\n",
       "      <th>class</th>\n",
       "    </tr>\n",
       "  </thead>\n",
       "  <tbody>\n",
       "    <tr>\n",
       "      <th>0</th>\n",
       "      <td>22058</td>\n",
       "      <td>2015-02-24 22:55:49</td>\n",
       "      <td>2015-04-18 02:47:11</td>\n",
       "      <td>34</td>\n",
       "      <td>QVPSPJUOCKZAR</td>\n",
       "      <td>SEO</td>\n",
       "      <td>Chrome</td>\n",
       "      <td>M</td>\n",
       "      <td>39</td>\n",
       "      <td>7.327584e+08</td>\n",
       "      <td>0</td>\n",
       "    </tr>\n",
       "    <tr>\n",
       "      <th>1</th>\n",
       "      <td>333320</td>\n",
       "      <td>2015-06-07 20:39:50</td>\n",
       "      <td>2015-06-08 01:38:54</td>\n",
       "      <td>16</td>\n",
       "      <td>EOGFQPIZPYXFZ</td>\n",
       "      <td>Ads</td>\n",
       "      <td>Chrome</td>\n",
       "      <td>F</td>\n",
       "      <td>53</td>\n",
       "      <td>3.503114e+08</td>\n",
       "      <td>0</td>\n",
       "    </tr>\n",
       "    <tr>\n",
       "      <th>2</th>\n",
       "      <td>1359</td>\n",
       "      <td>2015-01-01 18:52:44</td>\n",
       "      <td>2015-01-01 18:52:45</td>\n",
       "      <td>15</td>\n",
       "      <td>YSSKYOSJHPPLJ</td>\n",
       "      <td>SEO</td>\n",
       "      <td>Opera</td>\n",
       "      <td>M</td>\n",
       "      <td>53</td>\n",
       "      <td>2.621474e+09</td>\n",
       "      <td>1</td>\n",
       "    </tr>\n",
       "    <tr>\n",
       "      <th>3</th>\n",
       "      <td>150084</td>\n",
       "      <td>2015-04-28 21:13:25</td>\n",
       "      <td>2015-05-04 13:54:50</td>\n",
       "      <td>44</td>\n",
       "      <td>ATGTXKYKUDUQN</td>\n",
       "      <td>SEO</td>\n",
       "      <td>Safari</td>\n",
       "      <td>M</td>\n",
       "      <td>41</td>\n",
       "      <td>3.840542e+09</td>\n",
       "      <td>0</td>\n",
       "    </tr>\n",
       "    <tr>\n",
       "      <th>4</th>\n",
       "      <td>221365</td>\n",
       "      <td>2015-07-21 07:09:52</td>\n",
       "      <td>2015-09-09 18:40:53</td>\n",
       "      <td>39</td>\n",
       "      <td>NAUITBZFJKHWW</td>\n",
       "      <td>Ads</td>\n",
       "      <td>Safari</td>\n",
       "      <td>M</td>\n",
       "      <td>45</td>\n",
       "      <td>4.155831e+08</td>\n",
       "      <td>0</td>\n",
       "    </tr>\n",
       "  </tbody>\n",
       "</table>\n",
       "</div>"
      ],
      "text/plain": [
       "   user_id          signup_time        purchase_time  purchase_value  \\\n",
       "0    22058  2015-02-24 22:55:49  2015-04-18 02:47:11              34   \n",
       "1   333320  2015-06-07 20:39:50  2015-06-08 01:38:54              16   \n",
       "2     1359  2015-01-01 18:52:44  2015-01-01 18:52:45              15   \n",
       "3   150084  2015-04-28 21:13:25  2015-05-04 13:54:50              44   \n",
       "4   221365  2015-07-21 07:09:52  2015-09-09 18:40:53              39   \n",
       "\n",
       "       device_id source browser sex  age    ip_address  class  \n",
       "0  QVPSPJUOCKZAR    SEO  Chrome   M   39  7.327584e+08      0  \n",
       "1  EOGFQPIZPYXFZ    Ads  Chrome   F   53  3.503114e+08      0  \n",
       "2  YSSKYOSJHPPLJ    SEO   Opera   M   53  2.621474e+09      1  \n",
       "3  ATGTXKYKUDUQN    SEO  Safari   M   41  3.840542e+09      0  \n",
       "4  NAUITBZFJKHWW    Ads  Safari   M   45  4.155831e+08      0  "
      ]
     },
     "execution_count": 14,
     "metadata": {},
     "output_type": "execute_result"
    }
   ],
   "source": [
    "# Data overview \n",
    "fraud_df.head()"
   ]
  },
  {
   "cell_type": "code",
   "execution_count": 15,
   "metadata": {},
   "outputs": [
    {
     "name": "stdout",
     "output_type": "stream",
     "text": [
      "Snapshot:\n"
     ]
    },
    {
     "data": {
      "text/html": [
       "<div>\n",
       "<style scoped>\n",
       "    .dataframe tbody tr th:only-of-type {\n",
       "        vertical-align: middle;\n",
       "    }\n",
       "\n",
       "    .dataframe tbody tr th {\n",
       "        vertical-align: top;\n",
       "    }\n",
       "\n",
       "    .dataframe thead th {\n",
       "        text-align: right;\n",
       "    }\n",
       "</style>\n",
       "<table border=\"1\" class=\"dataframe\">\n",
       "  <thead>\n",
       "    <tr style=\"text-align: right;\">\n",
       "      <th></th>\n",
       "      <th></th>\n",
       "    </tr>\n",
       "  </thead>\n",
       "  <tbody>\n",
       "    <tr>\n",
       "      <th>Rows</th>\n",
       "      <td>151112</td>\n",
       "    </tr>\n",
       "    <tr>\n",
       "      <th>Columns</th>\n",
       "      <td>11</td>\n",
       "    </tr>\n",
       "    <tr>\n",
       "      <th>Missing cells</th>\n",
       "      <td>0 (0.00 %)</td>\n",
       "    </tr>\n",
       "    <tr>\n",
       "      <th>Zeros</th>\n",
       "      <td>136961 (8.24 %)</td>\n",
       "    </tr>\n",
       "    <tr>\n",
       "      <th>Duplicate rows</th>\n",
       "      <td>0 (0.00 %)</td>\n",
       "    </tr>\n",
       "  </tbody>\n",
       "</table>\n",
       "</div>"
      ],
      "text/plain": [
       "                               \n",
       "Rows                     151112\n",
       "Columns                      11\n",
       "Missing cells        0 (0.00 %)\n",
       "Zeros           136961 (8.24 %)\n",
       "Duplicate rows       0 (0.00 %)"
      ]
     },
     "metadata": {},
     "output_type": "display_data"
    }
   ],
   "source": [
    "# Data Summary of Froudf df \n",
    "ds.data_summary(fraud_df)"
   ]
  },
  {
   "cell_type": "code",
   "execution_count": 16,
   "metadata": {},
   "outputs": [
    {
     "data": {
      "text/html": [
       "<style type=\"text/css\">\n",
       "</style>\n",
       "<table id=\"T_ae957\">\n",
       "  <thead>\n",
       "    <tr>\n",
       "      <th id=\"T_ae957_level0_col0\" class=\"col_heading level0 col0\" >Column Name</th>\n",
       "      <th id=\"T_ae957_level0_col1\" class=\"col_heading level0 col1\" >Inferred Data Type</th>\n",
       "    </tr>\n",
       "  </thead>\n",
       "  <tbody>\n",
       "    <tr>\n",
       "      <td id=\"T_ae957_row0_col0\" class=\"data row0 col0\" >user_id</td>\n",
       "      <td id=\"T_ae957_row0_col1\" class=\"data row0 col1\" >numeric</td>\n",
       "    </tr>\n",
       "    <tr>\n",
       "      <td id=\"T_ae957_row1_col0\" class=\"data row1 col0\" >signup_time</td>\n",
       "      <td id=\"T_ae957_row1_col1\" class=\"data row1 col1\" >date</td>\n",
       "    </tr>\n",
       "    <tr>\n",
       "      <td id=\"T_ae957_row2_col0\" class=\"data row2 col0\" >purchase_time</td>\n",
       "      <td id=\"T_ae957_row2_col1\" class=\"data row2 col1\" >date</td>\n",
       "    </tr>\n",
       "    <tr>\n",
       "      <td id=\"T_ae957_row3_col0\" class=\"data row3 col0\" >purchase_value</td>\n",
       "      <td id=\"T_ae957_row3_col1\" class=\"data row3 col1\" >numeric</td>\n",
       "    </tr>\n",
       "    <tr>\n",
       "      <td id=\"T_ae957_row4_col0\" class=\"data row4 col0\" >device_id</td>\n",
       "      <td id=\"T_ae957_row4_col1\" class=\"data row4 col1\" >categorical</td>\n",
       "    </tr>\n",
       "    <tr>\n",
       "      <td id=\"T_ae957_row5_col0\" class=\"data row5 col0\" >source</td>\n",
       "      <td id=\"T_ae957_row5_col1\" class=\"data row5 col1\" >categorical</td>\n",
       "    </tr>\n",
       "    <tr>\n",
       "      <td id=\"T_ae957_row6_col0\" class=\"data row6 col0\" >browser</td>\n",
       "      <td id=\"T_ae957_row6_col1\" class=\"data row6 col1\" >categorical</td>\n",
       "    </tr>\n",
       "    <tr>\n",
       "      <td id=\"T_ae957_row7_col0\" class=\"data row7 col0\" >sex</td>\n",
       "      <td id=\"T_ae957_row7_col1\" class=\"data row7 col1\" >categorical</td>\n",
       "    </tr>\n",
       "    <tr>\n",
       "      <td id=\"T_ae957_row8_col0\" class=\"data row8 col0\" >age</td>\n",
       "      <td id=\"T_ae957_row8_col1\" class=\"data row8 col1\" >numeric</td>\n",
       "    </tr>\n",
       "    <tr>\n",
       "      <td id=\"T_ae957_row9_col0\" class=\"data row9 col0\" >ip_address</td>\n",
       "      <td id=\"T_ae957_row9_col1\" class=\"data row9 col1\" >numeric</td>\n",
       "    </tr>\n",
       "    <tr>\n",
       "      <td id=\"T_ae957_row10_col0\" class=\"data row10 col0\" >class</td>\n",
       "      <td id=\"T_ae957_row10_col1\" class=\"data row10 col1\" >boolean</td>\n",
       "    </tr>\n",
       "  </tbody>\n",
       "</table>\n"
      ],
      "text/plain": [
       "<pandas.io.formats.style.Styler at 0x20e80c92ed0>"
      ]
     },
     "metadata": {},
     "output_type": "display_data"
    }
   ],
   "source": [
    "# Data types \n",
    "ds.data_types(fraud_df)"
   ]
  },
  {
   "cell_type": "markdown",
   "metadata": {},
   "source": [
    "##### Correct Data Type"
   ]
  },
  {
   "cell_type": "code",
   "execution_count": 17,
   "metadata": {},
   "outputs": [],
   "source": [
    "# Converting date column to datetime format \n",
    "fraud_df['signup_time'] = pd.to_datetime(fraud_df['signup_time'])\n",
    "fraud_df['purchase_time'] = pd.to_datetime(fraud_df['purchase_time'])"
   ]
  },
  {
   "cell_type": "code",
   "execution_count": 19,
   "metadata": {},
   "outputs": [
    {
     "name": "stdout",
     "output_type": "stream",
     "text": [
      "There are no missing values\n"
     ]
    }
   ],
   "source": [
    "# Checking missing values\n",
    "ds.missing_values(fraud_df)"
   ]
  },
  {
   "cell_type": "code",
   "execution_count": 20,
   "metadata": {},
   "outputs": [
    {
     "data": {
      "text/html": [
       "<style type=\"text/css\">\n",
       "#T_46b8e_row0_col2 {\n",
       "  width: 10em;\n",
       "  background: linear-gradient(90deg, #FFA07A 90.6%, transparent 90.6%);\n",
       "}\n",
       "#T_46b8e_row1_col2, #T_46b8e_row2_col2, #T_46b8e_row3_col2, #T_46b8e_row4_col2, #T_46b8e_row5_col2, #T_46b8e_row6_col2, #T_46b8e_row7_col2, #T_46b8e_row8_col2, #T_46b8e_row9_col2, #T_46b8e_row10_col2 {\n",
       "  width: 10em;\n",
       "}\n",
       "</style>\n",
       "<table id=\"T_46b8e\">\n",
       "  <thead>\n",
       "    <tr>\n",
       "      <th id=\"T_46b8e_level0_col0\" class=\"col_heading level0 col0\" >Column Name</th>\n",
       "      <th id=\"T_46b8e_level0_col1\" class=\"col_heading level0 col1\" ><i>0</i> Count</th>\n",
       "      <th id=\"T_46b8e_level0_col2\" class=\"col_heading level0 col2\" ><i>0</i> %</th>\n",
       "    </tr>\n",
       "  </thead>\n",
       "  <tbody>\n",
       "    <tr>\n",
       "      <td id=\"T_46b8e_row0_col0\" class=\"data row0 col0\" >class</td>\n",
       "      <td id=\"T_46b8e_row0_col1\" class=\"data row0 col1\" >136961</td>\n",
       "      <td id=\"T_46b8e_row0_col2\" class=\"data row0 col2\" >90.635</td>\n",
       "    </tr>\n",
       "    <tr>\n",
       "      <td id=\"T_46b8e_row1_col0\" class=\"data row1 col0\" >signup_time</td>\n",
       "      <td id=\"T_46b8e_row1_col1\" class=\"data row1 col1\" >0</td>\n",
       "      <td id=\"T_46b8e_row1_col2\" class=\"data row1 col2\" >0.000</td>\n",
       "    </tr>\n",
       "    <tr>\n",
       "      <td id=\"T_46b8e_row2_col0\" class=\"data row2 col0\" >user_id</td>\n",
       "      <td id=\"T_46b8e_row2_col1\" class=\"data row2 col1\" >0</td>\n",
       "      <td id=\"T_46b8e_row2_col2\" class=\"data row2 col2\" >0.000</td>\n",
       "    </tr>\n",
       "    <tr>\n",
       "      <td id=\"T_46b8e_row3_col0\" class=\"data row3 col0\" >purchase_time</td>\n",
       "      <td id=\"T_46b8e_row3_col1\" class=\"data row3 col1\" >0</td>\n",
       "      <td id=\"T_46b8e_row3_col2\" class=\"data row3 col2\" >0.000</td>\n",
       "    </tr>\n",
       "    <tr>\n",
       "      <td id=\"T_46b8e_row4_col0\" class=\"data row4 col0\" >purchase_value</td>\n",
       "      <td id=\"T_46b8e_row4_col1\" class=\"data row4 col1\" >0</td>\n",
       "      <td id=\"T_46b8e_row4_col2\" class=\"data row4 col2\" >0.000</td>\n",
       "    </tr>\n",
       "    <tr>\n",
       "      <td id=\"T_46b8e_row5_col0\" class=\"data row5 col0\" >source</td>\n",
       "      <td id=\"T_46b8e_row5_col1\" class=\"data row5 col1\" >0</td>\n",
       "      <td id=\"T_46b8e_row5_col2\" class=\"data row5 col2\" >0.000</td>\n",
       "    </tr>\n",
       "    <tr>\n",
       "      <td id=\"T_46b8e_row6_col0\" class=\"data row6 col0\" >device_id</td>\n",
       "      <td id=\"T_46b8e_row6_col1\" class=\"data row6 col1\" >0</td>\n",
       "      <td id=\"T_46b8e_row6_col2\" class=\"data row6 col2\" >0.000</td>\n",
       "    </tr>\n",
       "    <tr>\n",
       "      <td id=\"T_46b8e_row7_col0\" class=\"data row7 col0\" >browser</td>\n",
       "      <td id=\"T_46b8e_row7_col1\" class=\"data row7 col1\" >0</td>\n",
       "      <td id=\"T_46b8e_row7_col2\" class=\"data row7 col2\" >0.000</td>\n",
       "    </tr>\n",
       "    <tr>\n",
       "      <td id=\"T_46b8e_row8_col0\" class=\"data row8 col0\" >sex</td>\n",
       "      <td id=\"T_46b8e_row8_col1\" class=\"data row8 col1\" >0</td>\n",
       "      <td id=\"T_46b8e_row8_col2\" class=\"data row8 col2\" >0.000</td>\n",
       "    </tr>\n",
       "    <tr>\n",
       "      <td id=\"T_46b8e_row9_col0\" class=\"data row9 col0\" >age</td>\n",
       "      <td id=\"T_46b8e_row9_col1\" class=\"data row9 col1\" >0</td>\n",
       "      <td id=\"T_46b8e_row9_col2\" class=\"data row9 col2\" >0.000</td>\n",
       "    </tr>\n",
       "    <tr>\n",
       "      <td id=\"T_46b8e_row10_col0\" class=\"data row10 col0\" >ip_address</td>\n",
       "      <td id=\"T_46b8e_row10_col1\" class=\"data row10 col1\" >0</td>\n",
       "      <td id=\"T_46b8e_row10_col2\" class=\"data row10 col2\" >0.000</td>\n",
       "    </tr>\n",
       "  </tbody>\n",
       "</table>\n"
      ],
      "text/plain": [
       "<pandas.io.formats.style.Styler at 0x20e80c6fa40>"
      ]
     },
     "metadata": {},
     "output_type": "display_data"
    }
   ],
   "source": [
    "ds.constant_occurrence(fraud_df)"
   ]
  },
  {
   "cell_type": "code",
   "execution_count": 21,
   "metadata": {},
   "outputs": [
    {
     "name": "stdout",
     "output_type": "stream",
     "text": [
      "No Frouds: 90.64% of dataset\n",
      "Frouds: 9.36% of dataset\n"
     ]
    }
   ],
   "source": [
    "# The class are highyl skewed, let's check in detail\n",
    "print(f\"No Frouds: {round(fraud_df['class'].value_counts(normalize=True)[0] * 100, 2)}% of dataset\")\n",
    "print(f\"Frouds: {round(fraud_df['class'].value_counts(normalize=True)[1] * 100, 2)}% of dataset\")"
   ]
  },
  {
   "cell_type": "markdown",
   "metadata": {},
   "source": [
    " - Take a closer look at our original dataset - it's heavily skewed towards non-fraudulent transactions! This poses a significant challenge for our predictive models and analysis. If we use this dataset as is, our algorithms may become overly optimistic, assuming that most transactions are legitimate. However, this is not what we want. We need our model to be vigilant and identify subtle patterns that indicate potential fraud. To achieve this, we must address the class imbalance issue head-on. By doing so, we'll ensure our model is robust and effective in detecting fraudulent activity, rather than being misled by the overwhelming majority of non-fraudulent transactions."
   ]
  },
  {
   "cell_type": "code",
   "execution_count": 23,
   "metadata": {},
   "outputs": [
    {
     "name": "stdout",
     "output_type": "stream",
     "text": [
      "There are no duplicated rows\n"
     ]
    }
   ],
   "source": [
    "# Checking duplicate\n",
    "ds.duplicate_row_count(fraud_df)"
   ]
  },
  {
   "cell_type": "markdown",
   "metadata": {},
   "source": [
    "### Exploratory Data Analysis (EDA)\n",
    "* Univariate analysis\n",
    "* Bivariate analysis"
   ]
  },
  {
   "cell_type": "markdown",
   "metadata": {},
   "source": [
    "#### Univariate Analysis"
   ]
  },
  {
   "cell_type": "code",
   "execution_count": 25,
   "metadata": {},
   "outputs": [
    {
     "data": {
      "image/png": "[encoded data removed]",
      "text/plain": [
       "<Figure size 800x600 with 1 Axes>"
      ]
     },
     "metadata": {},
     "output_type": "display_data"
    }
   ],
   "source": [
    "# Distribution of target variable (class)\n",
    "uv.class_distribution(fraud_df, fraud_df['class'])"
   ]
  },
  {
   "cell_type": "code",
   "execution_count": 36,
   "metadata": {},
   "outputs": [
    {
     "name": "stdout",
     "output_type": "stream",
     "text": [
      "count    151112.000000\n",
      "mean         36.935372\n",
      "std          18.322762\n",
      "min           9.000000\n",
      "25%          22.000000\n",
      "50%          35.000000\n",
      "75%          49.000000\n",
      "max         154.000000\n",
      "Name: purchase_value, dtype: float64\n"
     ]
    }
   ],
   "source": [
    "# Summary statistics for purchase_value\n",
    "print(fraud_df['purchase_value'].describe())"
   ]
  },
  {
   "cell_type": "code",
   "execution_count": 37,
   "metadata": {},
   "outputs": [
    {
     "name": "stdout",
     "output_type": "stream",
     "text": [
      "count    151112.000000\n",
      "mean         33.140704\n",
      "std           8.617733\n",
      "min          18.000000\n",
      "25%          27.000000\n",
      "50%          33.000000\n",
      "75%          39.000000\n",
      "max          76.000000\n",
      "Name: age, dtype: float64\n"
     ]
    }
   ],
   "source": [
    "# Distribution of age\n",
    "print(fraud_df['age'].describe())"
   ]
  }
 ],
 "metadata": {
  "kernelspec": {
   "display_name": "week8",
   "language": "python",
   "name": "python3"
  },
  "language_info": {
   "codemirror_mode": {
    "name": "ipython",
    "version": 3
   },
   "file_extension": ".py",
   "mimetype": "text/x-python",
   "name": "python",
   "nbconvert_exporter": "python",
   "pygments_lexer": "ipython3",
   "version": "3.12.5"
  }
 },
 "nbformat": 4,
 "nbformat_minor": 2
}
